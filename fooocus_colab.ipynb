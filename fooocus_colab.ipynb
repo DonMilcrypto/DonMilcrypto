{
  "cells": [
    {
      "cell_type": "code",
      "execution_count": null,
      "metadata": {
        "id": "VjYy0F2gZIPR"
      },
      "outputs": [],
      "source": [
        "!pip install pygit2==1.15.1\n",
        "%cd /content\n",
        "!git clone https://github.com/black-forest-labs/flux\n",
        "%cd /content/flux\n",
        "!python entry_with_update.py --share --always-high-vram\n"
      ]
    },
    {
      "source": [
        "from IPython import get_ipython\n",
        "from IPython.display import display\n",
        "# %%\n",
        "# Install pygit2\n",
        "!pip install pygit2==1.15.1\n",
        "\n",
        "# Change to /content directory\n",
        "%cd /content\n",
        "\n",
        "# Clone the repository\n",
        "!git clone https://github.com/black-forest-labs/flux\n",
        "\n",
        "# Navigate to the repository directory\n",
        "%cd /content/flux\n",
        "\n",
        "# Create and activate the virtual environment\n",
        "!python3.10 -m venv .venv\n",
        "!source .venv/bin/activate\n",
        "\n",
        "# Install dependencies\n",
        "!pip install -e \".[all]\"\n",
        "\n",
        "# Run the entry script (modify as needed)\n",
        "python demo_gr.py --name flux-dev --share"
      ],
      "cell_type": "code",
      "metadata": {
        "id": "G-qO-zds3270"
      },
      "execution_count": null,
      "outputs": []
    }
  ],
  "metadata": {
    "accelerator": "GPU",
    "colab": {
      "gpuType": "T4",
      "provenance": []
    },
    "kernelspec": {
      "display_name": "Python 3",
      "name": "python3"
    },
    "language_info": {
      "name": "python"
    }
  },
  "nbformat": 4,
  "nbformat_minor": 0
}